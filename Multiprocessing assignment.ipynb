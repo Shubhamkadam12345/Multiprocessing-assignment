{
 "cells": [
  {
   "cell_type": "code",
   "execution_count": null,
   "id": "4153edc6-30b2-49bb-a9e6-f1ddc5fcf258",
   "metadata": {},
   "outputs": [],
   "source": [
    "Q.1"
   ]
  },
  {
   "cell_type": "code",
   "execution_count": null,
   "id": "b98426a4-c85f-4f26-885a-dd9b92a453f3",
   "metadata": {},
   "outputs": [],
   "source": [
    "Offers both local & remote concurrency effeectively side slepping the global interpreter\n",
    "lock by using subprocess instead of thread.\n",
    "Allow the system to run multple process simultaneously"
   ]
  },
  {
   "cell_type": "code",
   "execution_count": null,
   "id": "b96a038e-5e95-4e38-ad77-89f6ad776b0e",
   "metadata": {},
   "outputs": [],
   "source": [
    "Q.2"
   ]
  },
  {
   "cell_type": "code",
   "execution_count": null,
   "id": "bc2a63d2-d85b-4b63-90bb-f9e535ec9360",
   "metadata": {},
   "outputs": [],
   "source": [
    "Multiprocessing uses two or more CPUs to increase computing power where multithreading uses a single\n",
    "process with multiple code segment to increse computing power."
   ]
  },
  {
   "cell_type": "code",
   "execution_count": null,
   "id": "d29a6dbb-bae9-4948-a40a-a21868e1518d",
   "metadata": {},
   "outputs": [],
   "source": [
    "Q.3"
   ]
  },
  {
   "cell_type": "code",
   "execution_count": null,
   "id": "dee4846e-684e-4395-a2eb-cc70a7a220c5",
   "metadata": {},
   "outputs": [],
   "source": [
    "# importing the multipleprocessing module import multiprocessing"
   ]
  },
  {
   "cell_type": "code",
   "execution_count": null,
   "id": "a6335901-ddbd-4ce1-80a4-21044739f3a3",
   "metadata": {},
   "outputs": [],
   "source": [
    "def print___cube ( num)"
   ]
  },
  {
   "cell_type": "code",
   "execution_count": null,
   "id": "b36cfa28-7843-4618-99a3-559ae5e09e2b",
   "metadata": {},
   "outputs": [],
   "source": [
    "function to print cube of given me\n",
    "print (\" cube: {} \" format \n",
    "       ( num num num ))\n",
    "def print___ square ( Num ) \n",
    "function to print square of given num\n",
    "print (\" square : {} format ( num num )"
   ]
  },
  {
   "cell_type": "code",
   "execution_count": null,
   "id": "d5094173-e037-4783-9888-b4956ac01611",
   "metadata": {},
   "outputs": [],
   "source": [
    "Q.4"
   ]
  },
  {
   "cell_type": "code",
   "execution_count": null,
   "id": "b98a3358-f387-45d9-afed-ad3906f79002",
   "metadata": {},
   "outputs": [],
   "source": [
    "import time \n",
    "from multiprocessing import pool \n",
    "def square ( a ): \n",
    "    print ( f here the process being :{} ) \n",
    "    square = a*a\n",
    "    print ( f\" square {a} { Square }:} \n",
    "           time sleep (1)\n",
    "print ( f\" here the process end: {a}\")"
   ]
  },
  {
   "cell_type": "code",
   "execution_count": null,
   "id": "4ca3c0a7-91fc-462b-afbd-fd84a6b9dde7",
   "metadata": {},
   "outputs": [],
   "source": [
    "if__name___==___man__\n",
    "start___t=time time()\n",
    "pool= pool()\n",
    "pool\" map (square, range(0.9))\n",
    "pool close ()\n",
    "end__t=time time()\n",
    "print( f\" The total time taken is \n",
    "      { end_t_start_t} second\")"
   ]
  },
  {
   "cell_type": "code",
   "execution_count": null,
   "id": "762c0df1-a866-41a2-88cb-88aad610fe81",
   "metadata": {},
   "outputs": [],
   "source": [
    "Q.5"
   ]
  },
  {
   "cell_type": "code",
   "execution_count": null,
   "id": "a6942e53-f2c5-4b3a-8d7c-cc47831b091c",
   "metadata": {},
   "outputs": [],
   "source": [
    "you can use the multiprocessing module pool class the multiprocessing pool object will\n",
    "maintain a collection of workers process to which you can submit tasks to be wxecute concurrently."
   ]
  },
  {
   "cell_type": "code",
   "execution_count": null,
   "id": "5df463f8-b16f-4cd8-908b-f0fefd635359",
   "metadata": {},
   "outputs": [],
   "source": [
    "Q.6"
   ]
  },
  {
   "cell_type": "code",
   "execution_count": null,
   "id": "37baff4a-923d-4fc9-9609-9cd8e055a19c",
   "metadata": {},
   "outputs": [],
   "source": [
    "1) Process"
   ]
  },
  {
   "cell_type": "code",
   "execution_count": null,
   "id": "383decc0-6601-40a4-a68a-2929db3913ed",
   "metadata": {},
   "outputs": [],
   "source": [
    "Class to execute a function across multiple values in parallel"
   ]
  },
  {
   "cell_type": "code",
   "execution_count": null,
   "id": "9599954f-4aed-43bb-9927-02e9978e17bd",
   "metadata": {},
   "outputs": [],
   "source": [
    "2) Lock"
   ]
  },
  {
   "cell_type": "code",
   "execution_count": null,
   "id": "f1c726ff-3bac-4f8a-917a-2cdda9865f3e",
   "metadata": {},
   "outputs": [],
   "source": [
    "Mutual exclusion ( Mutex ) lock is synchronizution primitive intended to prevent a race condition"
   ]
  },
  {
   "cell_type": "code",
   "execution_count": null,
   "id": "11dc9a1f-9001-4496-9350-85b40ae3cd91",
   "metadata": {},
   "outputs": [],
   "source": [
    "3) Queue"
   ]
  },
  {
   "cell_type": "code",
   "execution_count": null,
   "id": "875dfd8b-957d-46a0-b820-a2ae96ccb28e",
   "metadata": {},
   "outputs": [],
   "source": [
    "object is thread & proces safe using a FIFO data structure"
   ]
  },
  {
   "cell_type": "code",
   "execution_count": null,
   "id": "7b692f39-3ad9-4f2a-a38a-e68946450497",
   "metadata": {},
   "outputs": [],
   "source": [
    "4) Pool"
   ]
  },
  {
   "cell_type": "code",
   "execution_count": null,
   "id": "d329a5eb-a7db-4ce2-aed5-4f2a224905f5",
   "metadata": {},
   "outputs": [],
   "source": [
    "object to control a set of workers "
   ]
  }
 ],
 "metadata": {
  "kernelspec": {
   "display_name": "Python 3 (ipykernel)",
   "language": "python",
   "name": "python3"
  },
  "language_info": {
   "codemirror_mode": {
    "name": "ipython",
    "version": 3
   },
   "file_extension": ".py",
   "mimetype": "text/x-python",
   "name": "python",
   "nbconvert_exporter": "python",
   "pygments_lexer": "ipython3",
   "version": "3.10.8"
  }
 },
 "nbformat": 4,
 "nbformat_minor": 5
}
